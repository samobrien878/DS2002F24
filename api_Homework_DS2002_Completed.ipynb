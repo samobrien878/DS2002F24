{
  "nbformat": 4,
  "nbformat_minor": 0,
  "metadata": {
    "colab": {
      "provenance": [],
      "authorship_tag": "ABX9TyMSWfU7fO9GnPvt2npHq1ju",
      "include_colab_link": true
    },
    "kernelspec": {
      "name": "python3",
      "display_name": "Python 3"
    },
    "language_info": {
      "name": "python"
    }
  },
  "cells": [
    {
      "cell_type": "markdown",
      "metadata": {
        "id": "view-in-github",
        "colab_type": "text"
      },
      "source": [
        "<a href=\"https://colab.research.google.com/github/samobrien878/DS2002F24/blob/main/api_Homework_DS2002_Completed.ipynb\" target=\"_parent\"><img src=\"https://colab.research.google.com/assets/colab-badge.svg\" alt=\"Open In Colab\"/></a>"
      ]
    },
    {
      "cell_type": "code",
      "execution_count": 2,
      "metadata": {
        "id": "MqxPjRTRSJMY"
      },
      "outputs": [],
      "source": [
        "import json\n",
        "import pandas as pd\n",
        "import json\n",
        "import requests"
      ]
    },
    {
      "cell_type": "code",
      "source": [
        "stock = input(\"Please Enter a stock ticker symbol: \")"
      ],
      "metadata": {
        "colab": {
          "base_uri": "https://localhost:8080/"
        },
        "id": "Ktp6i5fNSjLm",
        "outputId": "6f813d9c-2a09-4fab-b271-d2aefc183358"
      },
      "execution_count": 89,
      "outputs": [
        {
          "name": "stdout",
          "output_type": "stream",
          "text": [
            "Please Enter a stock ticker symbol: AAPL\n"
          ]
        }
      ]
    },
    {
      "cell_type": "code",
      "source": [
        "df = []"
      ],
      "metadata": {
        "id": "q9Lca4A3l5mp"
      },
      "execution_count": 104,
      "outputs": []
    },
    {
      "cell_type": "markdown",
      "source": [
        "#Get API of target stock"
      ],
      "metadata": {
        "id": "L3AcpxHAjP4D"
      }
    },
    {
      "cell_type": "code",
      "source": [
        "apikey=\"\"\n",
        "\n",
        "url = \"https://yfapi.net/v6/finance/quote\"\n",
        "\n",
        "querystring = {\"symbols\":stock}\n",
        "\n",
        "headers = {\n",
        "    'x-api-key': apikey\n",
        "    }\n",
        "\n",
        "response = requests.request(\"GET\", url, headers=headers, params=querystring)\n",
        "\n",
        "\n",
        "if response.status_code == 200:\n",
        "    print(response.text)\n",
        "else:\n",
        "    print(f\"Failed to fetch data from API. Status code: {response.status_code}\")\n",
        "    print(\"Response:\", response.text)"
      ],
      "metadata": {
        "colab": {
          "base_uri": "https://localhost:8080/"
        },
        "id": "y1UOKDETSzbe",
        "outputId": "b84c2bfe-ab5a-4cf3-c530-f412e5f5f9a7"
      },
      "execution_count": 105,
      "outputs": [
        {
          "output_type": "stream",
          "name": "stdout",
          "text": [
            "{\"quoteResponse\":{\"result\":[{\"language\":\"en-US\",\"region\":\"US\",\"quoteType\":\"EQUITY\",\"typeDisp\":\"Equity\",\"quoteSourceName\":\"Nasdaq Real Time Price\",\"triggerable\":true,\"customPriceAlertConfidence\":\"HIGH\",\"currency\":\"USD\",\"hasPrePostMarketData\":true,\"firstTradeDateMilliseconds\":345479400000,\"priceHint\":2,\"regularMarketChange\":0.43699646,\"regularMarketTime\":1727459222,\"regularMarketDayHigh\":229.52,\"regularMarketDayRange\":\"227.3 - 229.52\",\"regularMarketDayLow\":227.3,\"regularMarketVolume\":16877003,\"regularMarketPreviousClose\":227.52,\"bid\":227.72,\"ask\":228.18,\"bidSize\":1,\"askSize\":1,\"fullExchangeName\":\"NasdaqGS\",\"financialCurrency\":\"USD\",\"regularMarketOpen\":228.43,\"averageDailyVolume3Month\":55583992,\"averageDailyVolume10Day\":76355650,\"fiftyTwoWeekLowChange\":63.877,\"fiftyTwoWeekLowChangePercent\":0.38930398,\"fiftyTwoWeekRange\":\"164.08 - 237.23\",\"fiftyTwoWeekHighChange\":-9.272995,\"fiftyTwoWeekHighChangePercent\":-0.03908863,\"fiftyTwoWeekLow\":164.08,\"fiftyTwoWeekHigh\":237.23,\"fiftyTwoWeekChangePercent\":32.88944,\"dividendDate\":1723680000,\"earningsTimestamp\":1722544200,\"earningsTimestampStart\":1730372340,\"earningsTimestampEnd\":1730721600,\"earningsCallTimestampStart\":1722546000,\"earningsCallTimestampEnd\":1722546000,\"isEarningsDateEstimate\":true,\"trailingAnnualDividendRate\":0.97,\"trailingPE\":34.749542,\"dividendRate\":1.0,\"trailingAnnualDividendYield\":0.0042633615,\"dividendYield\":0.44,\"epsTrailingTwelveMonths\":6.56,\"epsForward\":7.48,\"epsCurrentYear\":6.7,\"priceEpsCurrentYear\":34.023434,\"sharesOutstanding\":15204100096,\"bookValue\":4.382,\"fiftyDayAverage\":222.0196,\"fiftyDayAverageChange\":5.937393,\"fiftyDayAverageChangePercent\":0.026742652,\"twoHundredDayAverage\":197.008,\"twoHundredDayAverageChange\":30.949005,\"twoHundredDayAverageChangePercent\":0.15709518,\"marketCap\":3465881059328,\"forwardPE\":30.475534,\"priceToBook\":52.021225,\"sourceInterval\":15,\"exchangeDataDelayedBy\":0,\"averageAnalystRating\":\"2.0 - Buy\",\"tradeable\":false,\"cryptoTradeable\":false,\"marketState\":\"REGULAR\",\"exchange\":\"NMS\",\"shortName\":\"Apple Inc.\",\"longName\":\"Apple Inc.\",\"messageBoardId\":\"finmb_24937\",\"exchangeTimezoneName\":\"America/New_York\",\"exchangeTimezoneShortName\":\"EDT\",\"gmtOffSetMilliseconds\":-14400000,\"market\":\"us_market\",\"esgPopulated\":false,\"regularMarketChangePercent\":0.19206947,\"regularMarketPrice\":227.957,\"displayName\":\"Apple\",\"symbol\":\"AAPL\"}],\"error\":null}}\n"
          ]
        }
      ]
    },
    {
      "cell_type": "markdown",
      "source": [
        "#Get Target Stock Data"
      ],
      "metadata": {
        "id": "k6egEt_kjNLm"
      }
    },
    {
      "cell_type": "code",
      "source": [
        "stock_json_target = response.json()\n",
        "\n",
        "if not stock_json_target['quoteResponse']['result']:\n",
        "    print(\"Error: Stock does not exsist\")\n",
        "\n",
        "else:\n",
        "  print(\"Ticker Symbol: \" + str(stock_json_target['quoteResponse']['result'][0][\"symbol\"]) +\"\\n\"  +\n",
        "      \"Full Name: \" + str(stock_json_target['quoteResponse']['result'][0][\"longName\"]) + \"\\n\" +\n",
        "      \"Current Price: $\" + str(stock_json_target['quoteResponse']['result'][0][\"regularMarketPrice\"]) + \"\\n\"\n",
        "      \"Stock Mean Price: $\" + str(stock_json_target['quoteResponse']['result'][0][\"fiftyDayAverage\"]) + \"\\n\"\n",
        "      \"52 Week High: \" + str(stock_json_target['quoteResponse']['result'][0][\"fiftyTwoWeekHigh\"]) + \"\\n\" +\n",
        "      \"52 Week Low: \" + str(stock_json_target['quoteResponse']['result'][0][\"fiftyTwoWeekLow\"]) + \"\\n\")\n"
      ],
      "metadata": {
        "colab": {
          "base_uri": "https://localhost:8080/"
        },
        "id": "XlYIa5jxURRn",
        "outputId": "11aba162-b0a8-42c3-ad38-ee35d1bcefb6"
      },
      "execution_count": 106,
      "outputs": [
        {
          "output_type": "stream",
          "name": "stdout",
          "text": [
            "Ticker Symbol: AAPL\n",
            "Full Name: Apple Inc.\n",
            "Current Price: $227.957\n",
            "Stock Mean Price: $222.0196\n",
            "52 Week High: 237.23\n",
            "52 Week Low: 164.08\n",
            "\n"
          ]
        }
      ]
    },
    {
      "cell_type": "markdown",
      "source": [
        "#Get the data into a df"
      ],
      "metadata": {
        "id": "av2BQ3C1j6Gq"
      }
    },
    {
      "cell_type": "code",
      "source": [
        "df.append({\n",
        "    \"Ticker Symbol\": str(stock_json_target['quoteResponse']['result'][0][\"symbol\"]),\n",
        "    \"Full Name\": str(stock_json_target['quoteResponse']['result'][0][\"longName\"]),\n",
        "    \"Current Price\": stock_json_target['quoteResponse']['result'][0][\"regularMarketPrice\"],\n",
        "    \"Stock Mean Price\": stock_json_target['quoteResponse']['result'][0][\"fiftyDayAverage\"],\n",
        "    \"52 Week High\": stock_json_target['quoteResponse']['result'][0][\"fiftyTwoWeekHigh\"],\n",
        "    \"52 Week Low\": stock_json_target['quoteResponse']['result'][0][\"fiftyTwoWeekLow\"]\n",
        "})\n",
        "df"
      ],
      "metadata": {
        "colab": {
          "base_uri": "https://localhost:8080/"
        },
        "id": "4_7uM3I8j8sl",
        "outputId": "62979377-b070-478a-9578-aea580f52aa3"
      },
      "execution_count": 107,
      "outputs": [
        {
          "output_type": "execute_result",
          "data": {
            "text/plain": [
              "[{'Ticker Symbol': 'AAPL',\n",
              "  'Full Name': 'Apple Inc.',\n",
              "  'Current Price': 227.957,\n",
              "  'Stock Mean Price': 222.0196,\n",
              "  '52 Week High': 237.23,\n",
              "  '52 Week Low': 164.08}]"
            ]
          },
          "metadata": {},
          "execution_count": 107
        }
      ]
    },
    {
      "cell_type": "markdown",
      "source": [
        "#Get Trending Stocks Symbols"
      ],
      "metadata": {
        "id": "wILZtFX0jGVZ"
      }
    },
    {
      "cell_type": "code",
      "source": [
        "apikey=\"\"\n",
        "\n",
        "url = \"https://yfapi.net/v1/finance/trending/US\"\n",
        "\n",
        "querystring = {\"symbols\":stock}\n",
        "\n",
        "headers = {\n",
        "    'x-api-key': apikey\n",
        "    }\n",
        "\n",
        "response = requests.request(\"GET\", url, headers=headers, params=querystring)\n",
        "\n",
        "if response.status_code == 200:\n",
        "    print(response.text)\n",
        "else:\n",
        "    print(f\"Failed to fetch data from API. Status code: {response.status_code}\")\n",
        "    print(\"Response:\", response.text)"
      ],
      "metadata": {
        "colab": {
          "base_uri": "https://localhost:8080/"
        },
        "id": "dc2uWO6IT5RX",
        "outputId": "c2dc1927-f4e8-4756-c0db-c1d2cc641947"
      },
      "execution_count": 116,
      "outputs": [
        {
          "output_type": "stream",
          "name": "stdout",
          "text": [
            "{\"finance\":{\"result\":[{\"count\":20,\"quotes\":[{\"symbol\":\"NIO\"},{\"symbol\":\"IONQ\"},{\"symbol\":\"RKLB\"},{\"symbol\":\"COST\"},{\"symbol\":\"LULU\"},{\"symbol\":\"LLY\"},{\"symbol\":\"BMY\"},{\"symbol\":\"TSLA\"},{\"symbol\":\"TSM\"},{\"symbol\":\"ACHC\"},{\"symbol\":\"PAY.TO\"},{\"symbol\":\"CVS\"},{\"symbol\":\"PLUG\"},{\"symbol\":\"ONCO\"},{\"symbol\":\"DJT\"},{\"symbol\":\"ASTS\"},{\"symbol\":\"SATS\"},{\"symbol\":\"HOOD\"},{\"symbol\":\"AMZN\"},{\"symbol\":\"WBA\"}],\"jobTimestamp\":1727457839269,\"startInterval\":202409271600}],\"error\":null}}\n"
          ]
        }
      ]
    },
    {
      "cell_type": "code",
      "source": [
        "stocks_json_trending = response.json()\n",
        "stocks = []\n",
        "for i in range(5):\n",
        "  stocks.append(stocks_json_trending['finance']['result'][0]['quotes'][i]['symbol'])\n",
        "\n",
        "symbols = \",\".join(stocks)\n",
        "print(symbols)"
      ],
      "metadata": {
        "colab": {
          "base_uri": "https://localhost:8080/"
        },
        "id": "pwQ2_7YTZFz_",
        "outputId": "be293060-9a6d-4f3b-b456-22b62af39c72"
      },
      "execution_count": 117,
      "outputs": [
        {
          "output_type": "stream",
          "name": "stdout",
          "text": [
            "NIO,IONQ,RKLB,COST,LULU\n"
          ]
        }
      ]
    },
    {
      "cell_type": "markdown",
      "source": [
        "#Get API of tredning stocks"
      ],
      "metadata": {
        "id": "GadGBhk8jV4L"
      }
    },
    {
      "cell_type": "code",
      "source": [
        "apikey=\"\"\n",
        "\n",
        "url = \"https://yfapi.net/v6/finance/quote\"\n",
        "\n",
        "querystring = {\"symbols\":symbols}\n",
        "\n",
        "headers = {\n",
        "    'x-api-key': apikey\n",
        "    }\n",
        "\n",
        "response = requests.request(\"GET\", url, headers=headers, params=querystring)\n",
        "\n",
        "if response.status_code == 200:\n",
        "    print(response.text)\n",
        "else:\n",
        "    print(f\"Failed to fetch data from API. Status code: {response.status_code}\")\n",
        "    print(\"Response:\", response.text)"
      ],
      "metadata": {
        "colab": {
          "base_uri": "https://localhost:8080/"
        },
        "id": "CIk8LBwaZoFk",
        "outputId": "fd3ed2e7-e7b7-4966-c3fe-f4c5964ee0bf"
      },
      "execution_count": 118,
      "outputs": [
        {
          "output_type": "stream",
          "name": "stdout",
          "text": [
            "{\"quoteResponse\":{\"result\":[{\"language\":\"en-US\",\"region\":\"US\",\"quoteType\":\"EQUITY\",\"typeDisp\":\"Equity\",\"quoteSourceName\":\"Nasdaq Real Time Price\",\"triggerable\":true,\"customPriceAlertConfidence\":\"HIGH\",\"currency\":\"USD\",\"hasPrePostMarketData\":true,\"firstTradeDateMilliseconds\":1536759000000,\"priceHint\":2,\"regularMarketChange\":0.71989965,\"regularMarketTime\":1727459295,\"regularMarketDayHigh\":6.66,\"regularMarketDayRange\":\"5.995 - 6.66\",\"regularMarketDayLow\":5.995,\"regularMarketVolume\":141973351,\"regularMarketPreviousClose\":5.78,\"bid\":6.54,\"ask\":6.55,\"bidSize\":400,\"askSize\":280,\"fullExchangeName\":\"NYSE\",\"financialCurrency\":\"CNY\",\"regularMarketOpen\":6.01,\"averageDailyVolume3Month\":50980187,\"averageDailyVolume10Day\":74952630,\"fiftyTwoWeekLowChange\":2.8899,\"fiftyTwoWeekLowChangePercent\":0.8005263,\"fiftyTwoWeekRange\":\"3.61 - 9.57\",\"fiftyTwoWeekHighChange\":-3.0700998,\"fiftyTwoWeekHighChangePercent\":-0.3208046,\"fiftyTwoWeekLow\":3.61,\"fiftyTwoWeekHigh\":9.57,\"fiftyTwoWeekChangePercent\":-36.061947,\"dividendDate\":1462147200,\"earningsTimestamp\":1725528644,\"earningsTimestampStart\":1725528644,\"earningsTimestampEnd\":1725528644,\"earningsCallTimestampStart\":1725537600,\"earningsCallTimestampEnd\":1725537600,\"isEarningsDateEstimate\":false,\"trailingAnnualDividendRate\":0.0,\"trailingAnnualDividendYield\":0.0,\"epsTrailingTwelveMonths\":-1.55,\"epsForward\":-0.92,\"epsCurrentYear\":-1.24,\"priceEpsCurrentYear\":-5.2418547,\"sharesOutstanding\":1941929984,\"bookValue\":7.842,\"fiftyDayAverage\":4.5048,\"fiftyDayAverageChange\":1.9951,\"fiftyDayAverageChangePercent\":0.44288316,\"twoHundredDayAverage\":5.3188,\"twoHundredDayAverageChange\":1.1810999,\"twoHundredDayAverageChangePercent\":0.22206135,\"marketCap\":13948265472,\"forwardPE\":-7.0651083,\"priceToBook\":0.8288574,\"sourceInterval\":15,\"exchangeDataDelayedBy\":0,\"averageAnalystRating\":\"2.3 - Buy\",\"tradeable\":false,\"cryptoTradeable\":false,\"marketState\":\"REGULAR\",\"exchange\":\"NYQ\",\"shortName\":\"NIO Inc.\",\"longName\":\"NIO Inc.\",\"messageBoardId\":\"finmb_311626862\",\"exchangeTimezoneName\":\"America/New_York\",\"exchangeTimezoneShortName\":\"EDT\",\"gmtOffSetMilliseconds\":-14400000,\"market\":\"us_market\",\"esgPopulated\":false,\"regularMarketChangePercent\":12.473786,\"regularMarketPrice\":6.4999,\"displayName\":\"NIO\",\"symbol\":\"NIO\"},{\"language\":\"en-US\",\"region\":\"US\",\"quoteType\":\"EQUITY\",\"typeDisp\":\"Equity\",\"quoteSourceName\":\"Nasdaq Real Time Price\",\"triggerable\":true,\"customPriceAlertConfidence\":\"HIGH\",\"currency\":\"USD\",\"hasPrePostMarketData\":true,\"firstTradeDateMilliseconds\":1609770600000,\"priceHint\":2,\"regularMarketChange\":1.4199991,\"regularMarketTime\":1727459295,\"regularMarketDayHigh\":9.88,\"regularMarketDayRange\":\"8.58 - 9.88\",\"regularMarketDayLow\":8.58,\"regularMarketVolume\":35771327,\"regularMarketPreviousClose\":8.06,\"bid\":9.44,\"ask\":9.44,\"bidSize\":12,\"askSize\":14,\"fullExchangeName\":\"NYSE\",\"financialCurrency\":\"USD\",\"regularMarketOpen\":8.9,\"averageDailyVolume3Month\":4644393,\"averageDailyVolume10Day\":4934240,\"fiftyTwoWeekLowChange\":3.2599998,\"fiftyTwoWeekLowChangePercent\":0.52411574,\"fiftyTwoWeekRange\":\"6.22 - 16.6\",\"fiftyTwoWeekHighChange\":-7.120001,\"fiftyTwoWeekHighChangePercent\":-0.4289157,\"fiftyTwoWeekLow\":6.22,\"fiftyTwoWeekHigh\":16.6,\"fiftyTwoWeekChangePercent\":-45.833332,\"earningsTimestamp\":1723061100,\"earningsTimestampStart\":1730926800,\"earningsTimestampEnd\":1731358800,\"earningsCallTimestampStart\":1723062600,\"earningsCallTimestampEnd\":1723062600,\"isEarningsDateEstimate\":true,\"trailingAnnualDividendRate\":0.0,\"trailingAnnualDividendYield\":0.0,\"epsTrailingTwelveMonths\":-0.8,\"epsForward\":-0.93,\"epsCurrentYear\":-0.81,\"priceEpsCurrentYear\":-11.703703,\"sharesOutstanding\":214076000,\"bookValue\":2.168,\"fiftyDayAverage\":7.4746,\"fiftyDayAverageChange\":2.0053997,\"fiftyDayAverageChangePercent\":0.26829526,\"twoHundredDayAverage\":9.13675,\"twoHundredDayAverageChange\":0.34324932,\"twoHundredDayAverageChangePercent\":0.037567988,\"marketCap\":2029440384,\"forwardPE\":-10.193548,\"priceToBook\":4.3726935,\"sourceInterval\":15,\"exchangeDataDelayedBy\":0,\"averageAnalystRating\":\"2.5 - Buy\",\"tradeable\":false,\"cryptoTradeable\":false,\"marketState\":\"REGULAR\",\"exchange\":\"NYQ\",\"shortName\":\"IonQ, Inc.\",\"longName\":\"IonQ, Inc.\",\"messageBoardId\":\"finmb_531207172\",\"exchangeTimezoneName\":\"America/New_York\",\"exchangeTimezoneShortName\":\"EDT\",\"gmtOffSetMilliseconds\":-14400000,\"market\":\"us_market\",\"esgPopulated\":false,\"regularMarketChangePercent\":17.617416,\"regularMarketPrice\":9.48,\"displayName\":\"IonQ\",\"symbol\":\"IONQ\"},{\"language\":\"en-US\",\"region\":\"US\",\"quoteType\":\"EQUITY\",\"typeDisp\":\"Equity\",\"quoteSourceName\":\"Nasdaq Real Time Price\",\"triggerable\":true,\"customPriceAlertConfidence\":\"HIGH\",\"currency\":\"USD\",\"hasPrePostMarketData\":true,\"firstTradeDateMilliseconds\":1606228200000,\"priceHint\":2,\"regularMarketChange\":1.1100006,\"regularMarketTime\":1727459283,\"regularMarketDayHigh\":10.29,\"regularMarketDayRange\":\"8.8426 - 10.29\",\"regularMarketDayLow\":8.8426,\"regularMarketVolume\":31047279,\"regularMarketPreviousClose\":8.69,\"bid\":9.75,\"ask\":9.84,\"bidSize\":40,\"askSize\":41,\"fullExchangeName\":\"NasdaqCM\",\"financialCurrency\":\"USD\",\"regularMarketOpen\":8.86,\"averageDailyVolume3Month\":11775617,\"averageDailyVolume10Day\":14874090,\"fiftyTwoWeekLowChange\":6.33,\"fiftyTwoWeekLowChangePercent\":1.8242074,\"fiftyTwoWeekRange\":\"3.47 - 10.29\",\"fiftyTwoWeekHighChange\":-0.48999977,\"fiftyTwoWeekHighChangePercent\":-0.047619026,\"fiftyTwoWeekLow\":3.47,\"fiftyTwoWeekHigh\":10.29,\"fiftyTwoWeekChangePercent\":98.40182,\"earningsTimestamp\":1723148100,\"earningsTimestampStart\":1730890740,\"earningsTimestampEnd\":1731326400,\"earningsCallTimestampStart\":1723150800,\"earningsCallTimestampEnd\":1723150800,\"isEarningsDateEstimate\":true,\"trailingAnnualDividendRate\":0.0,\"trailingAnnualDividendYield\":0.0,\"epsTrailingTwelveMonths\":-0.36,\"epsForward\":-0.23,\"epsCurrentYear\":-0.39,\"priceEpsCurrentYear\":-25.128206,\"sharesOutstanding\":496640000,\"bookValue\":0.917,\"fiftyDayAverage\":6.1473,\"fiftyDayAverageChange\":3.6527004,\"fiftyDayAverageChangePercent\":0.5941959,\"twoHundredDayAverage\":4.915975,\"twoHundredDayAverageChange\":4.884025,\"twoHundredDayAverageChangePercent\":0.99350077,\"marketCap\":4867072000,\"forwardPE\":-42.608696,\"priceToBook\":10.687023,\"sourceInterval\":15,\"exchangeDataDelayedBy\":0,\"averageAnalystRating\":\"2.1 - Buy\",\"tradeable\":false,\"cryptoTradeable\":false,\"marketState\":\"REGULAR\",\"exchange\":\"NCM\",\"shortName\":\"Rocket Lab USA, Inc.\",\"longName\":\"Rocket Lab USA, Inc.\",\"messageBoardId\":\"finmb_533835000\",\"exchangeTimezoneName\":\"America/New_York\",\"exchangeTimezoneShortName\":\"EDT\",\"gmtOffSetMilliseconds\":-14400000,\"market\":\"us_market\",\"esgPopulated\":false,\"regularMarketChangePercent\":12.773311,\"regularMarketPrice\":9.8,\"displayName\":\"Rocket Lab USA\",\"symbol\":\"RKLB\"},{\"language\":\"en-US\",\"region\":\"US\",\"quoteType\":\"EQUITY\",\"typeDisp\":\"Equity\",\"quoteSourceName\":\"Nasdaq Real Time Price\",\"triggerable\":true,\"customPriceAlertConfidence\":\"HIGH\",\"currency\":\"USD\",\"hasPrePostMarketData\":true,\"firstTradeDateMilliseconds\":521299800000,\"priceHint\":2,\"regularMarketChange\":-17.690002,\"regularMarketTime\":1727459293,\"regularMarketDayHigh\":893.49,\"regularMarketDayRange\":\"874.0 - 893.49\",\"regularMarketDayLow\":874.0,\"regularMarketVolume\":2253972,\"regularMarketPreviousClose\":901.44,\"bid\":882.3,\"ask\":884.45,\"bidSize\":1,\"askSize\":1,\"fullExchangeName\":\"NasdaqGS\",\"financialCurrency\":\"USD\",\"regularMarketOpen\":893.25,\"averageDailyVolume3Month\":1942001,\"averageDailyVolume10Day\":2067410,\"fiftyTwoWeekLowChange\":343.52002,\"fiftyTwoWeekLowChangePercent\":0.6358774,\"fiftyTwoWeekRange\":\"540.23 - 923.83\",\"fiftyTwoWeekHighChange\":-40.080017,\"fiftyTwoWeekHighChangePercent\":-0.043384623,\"fiftyTwoWeekLow\":540.23,\"fiftyTwoWeekHigh\":923.83,\"fiftyTwoWeekChangePercent\":59.5582,\"dividendDate\":1723161600,\"earningsTimestamp\":1728504900,\"earningsTimestampStart\":1728504900,\"earningsTimestampEnd\":1728504900,\"earningsCallTimestampStart\":1727384400,\"earningsCallTimestampEnd\":1727384400,\"isEarningsDateEstimate\":false,\"trailingAnnualDividendRate\":0.0,\"trailingPE\":53.270042,\"dividendRate\":4.64,\"trailingAnnualDividendYield\":0.0,\"dividendYield\":0.51,\"epsTrailingTwelveMonths\":16.59,\"epsForward\":19.69,\"epsCurrentYear\":17.85,\"priceEpsCurrentYear\":49.509804,\"sharesOutstanding\":443335008,\"bookValue\":53.308,\"fiftyDayAverage\":868.658,\"fiftyDayAverageChange\":15.09198,\"fiftyDayAverageChangePercent\":0.017373903,\"twoHundredDayAverage\":778.4362,\"twoHundredDayAverageChange\":105.31378,\"twoHundredDayAverageChangePercent\":0.13528891,\"marketCap\":391797309440,\"forwardPE\":44.883186,\"priceToBook\":16.578188,\"sourceInterval\":15,\"exchangeDataDelayedBy\":0,\"averageAnalystRating\":\"2.1 - Buy\",\"tradeable\":false,\"cryptoTradeable\":false,\"marketState\":\"REGULAR\",\"exchange\":\"NMS\",\"shortName\":\"Costco Wholesale Corporation\",\"longName\":\"Costco Wholesale Corporation\",\"messageBoardId\":\"finmb_92817\",\"exchangeTimezoneName\":\"America/New_York\",\"exchangeTimezoneShortName\":\"EDT\",\"gmtOffSetMilliseconds\":-14400000,\"market\":\"us_market\",\"esgPopulated\":false,\"regularMarketChangePercent\":-1.9624159,\"regularMarketPrice\":883.75,\"displayName\":\"Costco Wholesale\",\"symbol\":\"COST\"},{\"language\":\"en-US\",\"region\":\"US\",\"quoteType\":\"EQUITY\",\"typeDisp\":\"Equity\",\"quoteSourceName\":\"Nasdaq Real Time Price\",\"triggerable\":true,\"customPriceAlertConfidence\":\"HIGH\",\"currency\":\"USD\",\"hasPrePostMarketData\":true,\"firstTradeDateMilliseconds\":1185543000000,\"priceHint\":2,\"regularMarketChange\":13.22998,\"regularMarketTime\":1727459290,\"regularMarketDayHigh\":283.66,\"regularMarketDayRange\":\"272.05 - 283.66\",\"regularMarketDayLow\":272.05,\"regularMarketVolume\":1882995,\"regularMarketPreviousClose\":268.82,\"bid\":281.53,\"ask\":282.53,\"bidSize\":1,\"askSize\":1,\"fullExchangeName\":\"NasdaqGS\",\"financialCurrency\":\"USD\",\"regularMarketOpen\":273.22,\"averageDailyVolume3Month\":2251530,\"averageDailyVolume10Day\":2001520,\"fiftyTwoWeekLowChange\":56.039993,\"fiftyTwoWeekLowChangePercent\":0.24795361,\"fiftyTwoWeekRange\":\"226.01 - 516.39\",\"fiftyTwoWeekHighChange\":-234.34003,\"fiftyTwoWeekHighChangePercent\":-0.45380434,\"fiftyTwoWeekLow\":226.01,\"fiftyTwoWeekHigh\":516.39,\"fiftyTwoWeekChangePercent\":-30.287075,\"earningsTimestamp\":1724961900,\"earningsTimestampStart\":1733396340,\"earningsTimestampEnd\":1733745600,\"earningsCallTimestampStart\":1724963400,\"earningsCallTimestampEnd\":1724963400,\"isEarningsDateEstimate\":true,\"trailingAnnualDividendRate\":0.0,\"trailingPE\":21.796755,\"trailingAnnualDividendYield\":0.0,\"epsTrailingTwelveMonths\":12.94,\"epsForward\":14.9,\"epsCurrentYear\":13.95,\"priceEpsCurrentYear\":20.218637,\"sharesOutstanding\":117661000,\"bookValue\":32.585,\"fiftyDayAverage\":258.201,\"fiftyDayAverageChange\":23.848999,\"fiftyDayAverageChangePercent\":0.092366025,\"twoHundredDayAverage\":363.7787,\"twoHundredDayAverageChange\":-81.7287,\"twoHundredDayAverageChangePercent\":-0.22466598,\"marketCap\":34629251072,\"forwardPE\":18.92953,\"priceToBook\":8.655823,\"sourceInterval\":15,\"exchangeDataDelayedBy\":0,\"averageAnalystRating\":\"2.2 - Buy\",\"tradeable\":false,\"cryptoTradeable\":false,\"marketState\":\"REGULAR\",\"exchange\":\"NMS\",\"shortName\":\"lululemon athletica inc.\",\"longName\":\"Lululemon Athletica Inc.\",\"messageBoardId\":\"finmb_34125194\",\"exchangeTimezoneName\":\"America/New_York\",\"exchangeTimezoneShortName\":\"EDT\",\"gmtOffSetMilliseconds\":-14400000,\"market\":\"us_market\",\"esgPopulated\":false,\"regularMarketChangePercent\":4.9215016,\"regularMarketPrice\":282.05,\"displayName\":\"Lululemon Athletica\",\"symbol\":\"LULU\"}],\"error\":null}}\n"
          ]
        }
      ]
    },
    {
      "cell_type": "markdown",
      "source": [
        "#Get data of trending stocks"
      ],
      "metadata": {
        "id": "LzIuqV9Wjgsq"
      }
    },
    {
      "cell_type": "code",
      "source": [
        "symbols = symbols.split(',')\n",
        "symbols"
      ],
      "metadata": {
        "colab": {
          "base_uri": "https://localhost:8080/"
        },
        "id": "psA79ngth3ip",
        "outputId": "bde2c4c9-6792-4f3a-8130-2b7178fc800b"
      },
      "execution_count": 119,
      "outputs": [
        {
          "output_type": "execute_result",
          "data": {
            "text/plain": [
              "['NIO', 'IONQ', 'RKLB', 'COST', 'LULU']"
            ]
          },
          "metadata": {},
          "execution_count": 119
        }
      ]
    },
    {
      "cell_type": "code",
      "source": [
        "stocks_json_trending = response.json()\n",
        "print(\"Trending Stocks!\" + \"\\n\")\n",
        "if not stock_json_target['quoteResponse']['result']:\n",
        "    print(\"Error: Stock does not exsist\")\n",
        "else:\n",
        "  for i in symbols:\n",
        "    for j in stocks_json_trending['quoteResponse']['result']:\n",
        "        if j[\"symbol\"] == i:\n",
        "            print(\"Ticker Symbol: \" + str(j[\"symbol\"]) + \"\\n\" +\n",
        "                  \"Full Name: \" + str(j[\"longName\"]) + \"\\n\" +\n",
        "                  \"Current Price: $\" + str(j[\"regularMarketPrice\"]) + \"\\n\" +\n",
        "                  \"Stock Mean Price: $\" + str(j[\"fiftyDayAverage\"]) + \"\\n\" +\n",
        "                  \"52 Week High: \" + str(j[\"fiftyTwoWeekHigh\"]) + \"\\n\" +\n",
        "                  \"52 Week Low: \" + str(j[\"fiftyTwoWeekLow\"]) + \"\\n\")\n",
        "            print(\"-\" * 40)\n",
        "\n"
      ],
      "metadata": {
        "colab": {
          "base_uri": "https://localhost:8080/"
        },
        "collapsed": true,
        "id": "dESG4WQ2hAZZ",
        "outputId": "15eba559-9b10-4813-8c76-ad144735ca9e"
      },
      "execution_count": 121,
      "outputs": [
        {
          "output_type": "stream",
          "name": "stdout",
          "text": [
            "Trending Stocks!\n",
            "\n",
            "Ticker Symbol: NIO\n",
            "Full Name: NIO Inc.\n",
            "Current Price: $6.4999\n",
            "Stock Mean Price: $4.5048\n",
            "52 Week High: 9.57\n",
            "52 Week Low: 3.61\n",
            "\n",
            "----------------------------------------\n",
            "Ticker Symbol: IONQ\n",
            "Full Name: IonQ, Inc.\n",
            "Current Price: $9.48\n",
            "Stock Mean Price: $7.4746\n",
            "52 Week High: 16.6\n",
            "52 Week Low: 6.22\n",
            "\n",
            "----------------------------------------\n",
            "Ticker Symbol: RKLB\n",
            "Full Name: Rocket Lab USA, Inc.\n",
            "Current Price: $9.8\n",
            "Stock Mean Price: $6.1473\n",
            "52 Week High: 10.29\n",
            "52 Week Low: 3.47\n",
            "\n",
            "----------------------------------------\n",
            "Ticker Symbol: COST\n",
            "Full Name: Costco Wholesale Corporation\n",
            "Current Price: $883.75\n",
            "Stock Mean Price: $868.658\n",
            "52 Week High: 923.83\n",
            "52 Week Low: 540.23\n",
            "\n",
            "----------------------------------------\n",
            "Ticker Symbol: LULU\n",
            "Full Name: Lululemon Athletica Inc.\n",
            "Current Price: $282.05\n",
            "Stock Mean Price: $258.201\n",
            "52 Week High: 516.39\n",
            "52 Week Low: 226.01\n",
            "\n",
            "----------------------------------------\n"
          ]
        }
      ]
    },
    {
      "cell_type": "markdown",
      "source": [
        "#Get the trending stocks into a df"
      ],
      "metadata": {
        "id": "wPt12fD8krJm"
      }
    },
    {
      "cell_type": "code",
      "source": [
        "for i in symbols:\n",
        "    for j in stocks_json_trending['quoteResponse']['result']:\n",
        "        if j[\"symbol\"] == i:\n",
        "            df.append({\n",
        "                \"Ticker Symbol\": j[\"symbol\"],\n",
        "                \"Full Name\": j[\"longName\"],\n",
        "                \"Current Price\": j[\"regularMarketPrice\"],\n",
        "                \"Stock Mean Price\": j[\"fiftyDayAverage\"],\n",
        "                \"52 Week High\": j[\"fiftyTwoWeekHigh\"],\n",
        "                \"52 Week Low\": j[\"fiftyTwoWeekLow\"]\n",
        "            })\n",
        "df"
      ],
      "metadata": {
        "colab": {
          "base_uri": "https://localhost:8080/"
        },
        "collapsed": true,
        "id": "9BK10ITFkt3M",
        "outputId": "0c2789e3-6a2c-4085-a3cc-ad9d99efa2c3"
      },
      "execution_count": 122,
      "outputs": [
        {
          "output_type": "execute_result",
          "data": {
            "text/plain": [
              "[{'Ticker Symbol': 'AAPL',\n",
              "  'Full Name': 'Apple Inc.',\n",
              "  'Current Price': 227.957,\n",
              "  'Stock Mean Price': 222.0196,\n",
              "  '52 Week High': 237.23,\n",
              "  '52 Week Low': 164.08},\n",
              " {'Ticker Symbol': 'NIO',\n",
              "  'Full Name': 'NIO Inc.',\n",
              "  'Current Price': 6.4999,\n",
              "  'Stock Mean Price': 4.5048,\n",
              "  '52 Week High': 9.57,\n",
              "  '52 Week Low': 3.61},\n",
              " {'Ticker Symbol': 'IONQ',\n",
              "  'Full Name': 'IonQ, Inc.',\n",
              "  'Current Price': 9.48,\n",
              "  'Stock Mean Price': 7.4746,\n",
              "  '52 Week High': 16.6,\n",
              "  '52 Week Low': 6.22},\n",
              " {'Ticker Symbol': 'RKLB',\n",
              "  'Full Name': 'Rocket Lab USA, Inc.',\n",
              "  'Current Price': 9.8,\n",
              "  'Stock Mean Price': 6.1473,\n",
              "  '52 Week High': 10.29,\n",
              "  '52 Week Low': 3.47},\n",
              " {'Ticker Symbol': 'COST',\n",
              "  'Full Name': 'Costco Wholesale Corporation',\n",
              "  'Current Price': 883.75,\n",
              "  'Stock Mean Price': 868.658,\n",
              "  '52 Week High': 923.83,\n",
              "  '52 Week Low': 540.23},\n",
              " {'Ticker Symbol': 'LULU',\n",
              "  'Full Name': 'Lululemon Athletica Inc.',\n",
              "  'Current Price': 282.05,\n",
              "  'Stock Mean Price': 258.201,\n",
              "  '52 Week High': 516.39,\n",
              "  '52 Week Low': 226.01}]"
            ]
          },
          "metadata": {},
          "execution_count": 122
        }
      ]
    },
    {
      "cell_type": "code",
      "source": [
        "df = pd.DataFrame(df)\n",
        "df"
      ],
      "metadata": {
        "colab": {
          "base_uri": "https://localhost:8080/",
          "height": 237
        },
        "id": "fbgVHyvTluNR",
        "outputId": "cd048b66-a727-4a09-83f9-3c648c067e89"
      },
      "execution_count": 123,
      "outputs": [
        {
          "output_type": "execute_result",
          "data": {
            "text/plain": [
              "  Ticker Symbol                     Full Name  Current Price  \\\n",
              "0          AAPL                    Apple Inc.       227.9570   \n",
              "1           NIO                      NIO Inc.         6.4999   \n",
              "2          IONQ                    IonQ, Inc.         9.4800   \n",
              "3          RKLB          Rocket Lab USA, Inc.         9.8000   \n",
              "4          COST  Costco Wholesale Corporation       883.7500   \n",
              "5          LULU      Lululemon Athletica Inc.       282.0500   \n",
              "\n",
              "   Stock Mean Price  52 Week High  52 Week Low  \n",
              "0          222.0196        237.23       164.08  \n",
              "1            4.5048          9.57         3.61  \n",
              "2            7.4746         16.60         6.22  \n",
              "3            6.1473         10.29         3.47  \n",
              "4          868.6580        923.83       540.23  \n",
              "5          258.2010        516.39       226.01  "
            ],
            "text/html": [
              "\n",
              "  <div id=\"df-46ee513f-2ad7-4efc-a526-083fc5aab6cf\" class=\"colab-df-container\">\n",
              "    <div>\n",
              "<style scoped>\n",
              "    .dataframe tbody tr th:only-of-type {\n",
              "        vertical-align: middle;\n",
              "    }\n",
              "\n",
              "    .dataframe tbody tr th {\n",
              "        vertical-align: top;\n",
              "    }\n",
              "\n",
              "    .dataframe thead th {\n",
              "        text-align: right;\n",
              "    }\n",
              "</style>\n",
              "<table border=\"1\" class=\"dataframe\">\n",
              "  <thead>\n",
              "    <tr style=\"text-align: right;\">\n",
              "      <th></th>\n",
              "      <th>Ticker Symbol</th>\n",
              "      <th>Full Name</th>\n",
              "      <th>Current Price</th>\n",
              "      <th>Stock Mean Price</th>\n",
              "      <th>52 Week High</th>\n",
              "      <th>52 Week Low</th>\n",
              "    </tr>\n",
              "  </thead>\n",
              "  <tbody>\n",
              "    <tr>\n",
              "      <th>0</th>\n",
              "      <td>AAPL</td>\n",
              "      <td>Apple Inc.</td>\n",
              "      <td>227.9570</td>\n",
              "      <td>222.0196</td>\n",
              "      <td>237.23</td>\n",
              "      <td>164.08</td>\n",
              "    </tr>\n",
              "    <tr>\n",
              "      <th>1</th>\n",
              "      <td>NIO</td>\n",
              "      <td>NIO Inc.</td>\n",
              "      <td>6.4999</td>\n",
              "      <td>4.5048</td>\n",
              "      <td>9.57</td>\n",
              "      <td>3.61</td>\n",
              "    </tr>\n",
              "    <tr>\n",
              "      <th>2</th>\n",
              "      <td>IONQ</td>\n",
              "      <td>IonQ, Inc.</td>\n",
              "      <td>9.4800</td>\n",
              "      <td>7.4746</td>\n",
              "      <td>16.60</td>\n",
              "      <td>6.22</td>\n",
              "    </tr>\n",
              "    <tr>\n",
              "      <th>3</th>\n",
              "      <td>RKLB</td>\n",
              "      <td>Rocket Lab USA, Inc.</td>\n",
              "      <td>9.8000</td>\n",
              "      <td>6.1473</td>\n",
              "      <td>10.29</td>\n",
              "      <td>3.47</td>\n",
              "    </tr>\n",
              "    <tr>\n",
              "      <th>4</th>\n",
              "      <td>COST</td>\n",
              "      <td>Costco Wholesale Corporation</td>\n",
              "      <td>883.7500</td>\n",
              "      <td>868.6580</td>\n",
              "      <td>923.83</td>\n",
              "      <td>540.23</td>\n",
              "    </tr>\n",
              "    <tr>\n",
              "      <th>5</th>\n",
              "      <td>LULU</td>\n",
              "      <td>Lululemon Athletica Inc.</td>\n",
              "      <td>282.0500</td>\n",
              "      <td>258.2010</td>\n",
              "      <td>516.39</td>\n",
              "      <td>226.01</td>\n",
              "    </tr>\n",
              "  </tbody>\n",
              "</table>\n",
              "</div>\n",
              "    <div class=\"colab-df-buttons\">\n",
              "\n",
              "  <div class=\"colab-df-container\">\n",
              "    <button class=\"colab-df-convert\" onclick=\"convertToInteractive('df-46ee513f-2ad7-4efc-a526-083fc5aab6cf')\"\n",
              "            title=\"Convert this dataframe to an interactive table.\"\n",
              "            style=\"display:none;\">\n",
              "\n",
              "  <svg xmlns=\"http://www.w3.org/2000/svg\" height=\"24px\" viewBox=\"0 -960 960 960\">\n",
              "    <path d=\"M120-120v-720h720v720H120Zm60-500h600v-160H180v160Zm220 220h160v-160H400v160Zm0 220h160v-160H400v160ZM180-400h160v-160H180v160Zm440 0h160v-160H620v160ZM180-180h160v-160H180v160Zm440 0h160v-160H620v160Z\"/>\n",
              "  </svg>\n",
              "    </button>\n",
              "\n",
              "  <style>\n",
              "    .colab-df-container {\n",
              "      display:flex;\n",
              "      gap: 12px;\n",
              "    }\n",
              "\n",
              "    .colab-df-convert {\n",
              "      background-color: #E8F0FE;\n",
              "      border: none;\n",
              "      border-radius: 50%;\n",
              "      cursor: pointer;\n",
              "      display: none;\n",
              "      fill: #1967D2;\n",
              "      height: 32px;\n",
              "      padding: 0 0 0 0;\n",
              "      width: 32px;\n",
              "    }\n",
              "\n",
              "    .colab-df-convert:hover {\n",
              "      background-color: #E2EBFA;\n",
              "      box-shadow: 0px 1px 2px rgba(60, 64, 67, 0.3), 0px 1px 3px 1px rgba(60, 64, 67, 0.15);\n",
              "      fill: #174EA6;\n",
              "    }\n",
              "\n",
              "    .colab-df-buttons div {\n",
              "      margin-bottom: 4px;\n",
              "    }\n",
              "\n",
              "    [theme=dark] .colab-df-convert {\n",
              "      background-color: #3B4455;\n",
              "      fill: #D2E3FC;\n",
              "    }\n",
              "\n",
              "    [theme=dark] .colab-df-convert:hover {\n",
              "      background-color: #434B5C;\n",
              "      box-shadow: 0px 1px 3px 1px rgba(0, 0, 0, 0.15);\n",
              "      filter: drop-shadow(0px 1px 2px rgba(0, 0, 0, 0.3));\n",
              "      fill: #FFFFFF;\n",
              "    }\n",
              "  </style>\n",
              "\n",
              "    <script>\n",
              "      const buttonEl =\n",
              "        document.querySelector('#df-46ee513f-2ad7-4efc-a526-083fc5aab6cf button.colab-df-convert');\n",
              "      buttonEl.style.display =\n",
              "        google.colab.kernel.accessAllowed ? 'block' : 'none';\n",
              "\n",
              "      async function convertToInteractive(key) {\n",
              "        const element = document.querySelector('#df-46ee513f-2ad7-4efc-a526-083fc5aab6cf');\n",
              "        const dataTable =\n",
              "          await google.colab.kernel.invokeFunction('convertToInteractive',\n",
              "                                                    [key], {});\n",
              "        if (!dataTable) return;\n",
              "\n",
              "        const docLinkHtml = 'Like what you see? Visit the ' +\n",
              "          '<a target=\"_blank\" href=https://colab.research.google.com/notebooks/data_table.ipynb>data table notebook</a>'\n",
              "          + ' to learn more about interactive tables.';\n",
              "        element.innerHTML = '';\n",
              "        dataTable['output_type'] = 'display_data';\n",
              "        await google.colab.output.renderOutput(dataTable, element);\n",
              "        const docLink = document.createElement('div');\n",
              "        docLink.innerHTML = docLinkHtml;\n",
              "        element.appendChild(docLink);\n",
              "      }\n",
              "    </script>\n",
              "  </div>\n",
              "\n",
              "\n",
              "<div id=\"df-e945ea8f-ed23-46a4-b851-7b1b8e70bb01\">\n",
              "  <button class=\"colab-df-quickchart\" onclick=\"quickchart('df-e945ea8f-ed23-46a4-b851-7b1b8e70bb01')\"\n",
              "            title=\"Suggest charts\"\n",
              "            style=\"display:none;\">\n",
              "\n",
              "<svg xmlns=\"http://www.w3.org/2000/svg\" height=\"24px\"viewBox=\"0 0 24 24\"\n",
              "     width=\"24px\">\n",
              "    <g>\n",
              "        <path d=\"M19 3H5c-1.1 0-2 .9-2 2v14c0 1.1.9 2 2 2h14c1.1 0 2-.9 2-2V5c0-1.1-.9-2-2-2zM9 17H7v-7h2v7zm4 0h-2V7h2v10zm4 0h-2v-4h2v4z\"/>\n",
              "    </g>\n",
              "</svg>\n",
              "  </button>\n",
              "\n",
              "<style>\n",
              "  .colab-df-quickchart {\n",
              "      --bg-color: #E8F0FE;\n",
              "      --fill-color: #1967D2;\n",
              "      --hover-bg-color: #E2EBFA;\n",
              "      --hover-fill-color: #174EA6;\n",
              "      --disabled-fill-color: #AAA;\n",
              "      --disabled-bg-color: #DDD;\n",
              "  }\n",
              "\n",
              "  [theme=dark] .colab-df-quickchart {\n",
              "      --bg-color: #3B4455;\n",
              "      --fill-color: #D2E3FC;\n",
              "      --hover-bg-color: #434B5C;\n",
              "      --hover-fill-color: #FFFFFF;\n",
              "      --disabled-bg-color: #3B4455;\n",
              "      --disabled-fill-color: #666;\n",
              "  }\n",
              "\n",
              "  .colab-df-quickchart {\n",
              "    background-color: var(--bg-color);\n",
              "    border: none;\n",
              "    border-radius: 50%;\n",
              "    cursor: pointer;\n",
              "    display: none;\n",
              "    fill: var(--fill-color);\n",
              "    height: 32px;\n",
              "    padding: 0;\n",
              "    width: 32px;\n",
              "  }\n",
              "\n",
              "  .colab-df-quickchart:hover {\n",
              "    background-color: var(--hover-bg-color);\n",
              "    box-shadow: 0 1px 2px rgba(60, 64, 67, 0.3), 0 1px 3px 1px rgba(60, 64, 67, 0.15);\n",
              "    fill: var(--button-hover-fill-color);\n",
              "  }\n",
              "\n",
              "  .colab-df-quickchart-complete:disabled,\n",
              "  .colab-df-quickchart-complete:disabled:hover {\n",
              "    background-color: var(--disabled-bg-color);\n",
              "    fill: var(--disabled-fill-color);\n",
              "    box-shadow: none;\n",
              "  }\n",
              "\n",
              "  .colab-df-spinner {\n",
              "    border: 2px solid var(--fill-color);\n",
              "    border-color: transparent;\n",
              "    border-bottom-color: var(--fill-color);\n",
              "    animation:\n",
              "      spin 1s steps(1) infinite;\n",
              "  }\n",
              "\n",
              "  @keyframes spin {\n",
              "    0% {\n",
              "      border-color: transparent;\n",
              "      border-bottom-color: var(--fill-color);\n",
              "      border-left-color: var(--fill-color);\n",
              "    }\n",
              "    20% {\n",
              "      border-color: transparent;\n",
              "      border-left-color: var(--fill-color);\n",
              "      border-top-color: var(--fill-color);\n",
              "    }\n",
              "    30% {\n",
              "      border-color: transparent;\n",
              "      border-left-color: var(--fill-color);\n",
              "      border-top-color: var(--fill-color);\n",
              "      border-right-color: var(--fill-color);\n",
              "    }\n",
              "    40% {\n",
              "      border-color: transparent;\n",
              "      border-right-color: var(--fill-color);\n",
              "      border-top-color: var(--fill-color);\n",
              "    }\n",
              "    60% {\n",
              "      border-color: transparent;\n",
              "      border-right-color: var(--fill-color);\n",
              "    }\n",
              "    80% {\n",
              "      border-color: transparent;\n",
              "      border-right-color: var(--fill-color);\n",
              "      border-bottom-color: var(--fill-color);\n",
              "    }\n",
              "    90% {\n",
              "      border-color: transparent;\n",
              "      border-bottom-color: var(--fill-color);\n",
              "    }\n",
              "  }\n",
              "</style>\n",
              "\n",
              "  <script>\n",
              "    async function quickchart(key) {\n",
              "      const quickchartButtonEl =\n",
              "        document.querySelector('#' + key + ' button');\n",
              "      quickchartButtonEl.disabled = true;  // To prevent multiple clicks.\n",
              "      quickchartButtonEl.classList.add('colab-df-spinner');\n",
              "      try {\n",
              "        const charts = await google.colab.kernel.invokeFunction(\n",
              "            'suggestCharts', [key], {});\n",
              "      } catch (error) {\n",
              "        console.error('Error during call to suggestCharts:', error);\n",
              "      }\n",
              "      quickchartButtonEl.classList.remove('colab-df-spinner');\n",
              "      quickchartButtonEl.classList.add('colab-df-quickchart-complete');\n",
              "    }\n",
              "    (() => {\n",
              "      let quickchartButtonEl =\n",
              "        document.querySelector('#df-e945ea8f-ed23-46a4-b851-7b1b8e70bb01 button');\n",
              "      quickchartButtonEl.style.display =\n",
              "        google.colab.kernel.accessAllowed ? 'block' : 'none';\n",
              "    })();\n",
              "  </script>\n",
              "</div>\n",
              "\n",
              "  <div id=\"id_c7be6d8b-4ff3-45cf-b6a0-788d6ecbe9bc\">\n",
              "    <style>\n",
              "      .colab-df-generate {\n",
              "        background-color: #E8F0FE;\n",
              "        border: none;\n",
              "        border-radius: 50%;\n",
              "        cursor: pointer;\n",
              "        display: none;\n",
              "        fill: #1967D2;\n",
              "        height: 32px;\n",
              "        padding: 0 0 0 0;\n",
              "        width: 32px;\n",
              "      }\n",
              "\n",
              "      .colab-df-generate:hover {\n",
              "        background-color: #E2EBFA;\n",
              "        box-shadow: 0px 1px 2px rgba(60, 64, 67, 0.3), 0px 1px 3px 1px rgba(60, 64, 67, 0.15);\n",
              "        fill: #174EA6;\n",
              "      }\n",
              "\n",
              "      [theme=dark] .colab-df-generate {\n",
              "        background-color: #3B4455;\n",
              "        fill: #D2E3FC;\n",
              "      }\n",
              "\n",
              "      [theme=dark] .colab-df-generate:hover {\n",
              "        background-color: #434B5C;\n",
              "        box-shadow: 0px 1px 3px 1px rgba(0, 0, 0, 0.15);\n",
              "        filter: drop-shadow(0px 1px 2px rgba(0, 0, 0, 0.3));\n",
              "        fill: #FFFFFF;\n",
              "      }\n",
              "    </style>\n",
              "    <button class=\"colab-df-generate\" onclick=\"generateWithVariable('df')\"\n",
              "            title=\"Generate code using this dataframe.\"\n",
              "            style=\"display:none;\">\n",
              "\n",
              "  <svg xmlns=\"http://www.w3.org/2000/svg\" height=\"24px\"viewBox=\"0 0 24 24\"\n",
              "       width=\"24px\">\n",
              "    <path d=\"M7,19H8.4L18.45,9,17,7.55,7,17.6ZM5,21V16.75L18.45,3.32a2,2,0,0,1,2.83,0l1.4,1.43a1.91,1.91,0,0,1,.58,1.4,1.91,1.91,0,0,1-.58,1.4L9.25,21ZM18.45,9,17,7.55Zm-12,3A5.31,5.31,0,0,0,4.9,8.1,5.31,5.31,0,0,0,1,6.5,5.31,5.31,0,0,0,4.9,4.9,5.31,5.31,0,0,0,6.5,1,5.31,5.31,0,0,0,8.1,4.9,5.31,5.31,0,0,0,12,6.5,5.46,5.46,0,0,0,6.5,12Z\"/>\n",
              "  </svg>\n",
              "    </button>\n",
              "    <script>\n",
              "      (() => {\n",
              "      const buttonEl =\n",
              "        document.querySelector('#id_c7be6d8b-4ff3-45cf-b6a0-788d6ecbe9bc button.colab-df-generate');\n",
              "      buttonEl.style.display =\n",
              "        google.colab.kernel.accessAllowed ? 'block' : 'none';\n",
              "\n",
              "      buttonEl.onclick = () => {\n",
              "        google.colab.notebook.generateWithVariable('df');\n",
              "      }\n",
              "      })();\n",
              "    </script>\n",
              "  </div>\n",
              "\n",
              "    </div>\n",
              "  </div>\n"
            ],
            "application/vnd.google.colaboratory.intrinsic+json": {
              "type": "dataframe",
              "variable_name": "df",
              "summary": "{\n  \"name\": \"df\",\n  \"rows\": 6,\n  \"fields\": [\n    {\n      \"column\": \"Ticker Symbol\",\n      \"properties\": {\n        \"dtype\": \"string\",\n        \"num_unique_values\": 6,\n        \"samples\": [\n          \"AAPL\",\n          \"NIO\",\n          \"LULU\"\n        ],\n        \"semantic_type\": \"\",\n        \"description\": \"\"\n      }\n    },\n    {\n      \"column\": \"Full Name\",\n      \"properties\": {\n        \"dtype\": \"string\",\n        \"num_unique_values\": 6,\n        \"samples\": [\n          \"Apple Inc.\",\n          \"NIO Inc.\",\n          \"Lululemon Athletica Inc.\"\n        ],\n        \"semantic_type\": \"\",\n        \"description\": \"\"\n      }\n    },\n    {\n      \"column\": \"Current Price\",\n      \"properties\": {\n        \"dtype\": \"number\",\n        \"std\": 339.67964796419824,\n        \"min\": 6.4999,\n        \"max\": 883.75,\n        \"num_unique_values\": 6,\n        \"samples\": [\n          227.957,\n          6.4999,\n          282.05\n        ],\n        \"semantic_type\": \"\",\n        \"description\": \"\"\n      }\n    },\n    {\n      \"column\": \"Stock Mean Price\",\n      \"properties\": {\n        \"dtype\": \"number\",\n        \"std\": 334.42205388101075,\n        \"min\": 4.5048,\n        \"max\": 868.658,\n        \"num_unique_values\": 6,\n        \"samples\": [\n          222.0196,\n          4.5048,\n          258.201\n        ],\n        \"semantic_type\": \"\",\n        \"description\": \"\"\n      }\n    },\n    {\n      \"column\": \"52 Week High\",\n      \"properties\": {\n        \"dtype\": \"number\",\n        \"std\": 370.75338296051547,\n        \"min\": 9.57,\n        \"max\": 923.83,\n        \"num_unique_values\": 6,\n        \"samples\": [\n          237.23,\n          9.57,\n          516.39\n        ],\n        \"semantic_type\": \"\",\n        \"description\": \"\"\n      }\n    },\n    {\n      \"column\": \"52 Week Low\",\n      \"properties\": {\n        \"dtype\": \"number\",\n        \"std\": 210.48128819446163,\n        \"min\": 3.47,\n        \"max\": 540.23,\n        \"num_unique_values\": 6,\n        \"samples\": [\n          164.08,\n          3.61,\n          226.01\n        ],\n        \"semantic_type\": \"\",\n        \"description\": \"\"\n      }\n    }\n  ]\n}"
            }
          },
          "metadata": {},
          "execution_count": 123
        }
      ]
    },
    {
      "cell_type": "markdown",
      "source": [
        "#Plotting Price over last 5 days of a stock"
      ],
      "metadata": {
        "id": "p6c5E0T7oydh"
      }
    },
    {
      "cell_type": "code",
      "source": [
        "symbol = input(\"Pick a stock, any stock symbol: \")"
      ],
      "metadata": {
        "colab": {
          "base_uri": "https://localhost:8080/"
        },
        "id": "lhDSUVAzm-bj",
        "outputId": "08162aac-9e19-47ee-fae8-936f851df121"
      },
      "execution_count": 3,
      "outputs": [
        {
          "name": "stdout",
          "output_type": "stream",
          "text": [
            "Pick a stock, any stock symbol: AAPL\n"
          ]
        }
      ]
    },
    {
      "cell_type": "code",
      "source": [
        "apikey=\"\"\n",
        "\n",
        "url = \"https://yfapi.net/v8/finance/spark?interval=1d&range=1mo&symbols=AAPL%2CMSFT\"\n",
        "\n",
        "querystring = {\"symbols\":symbol}\n",
        "\n",
        "headers = {\n",
        "    'x-api-key': apikey\n",
        "    }\n",
        "\n",
        "response = requests.request(\"GET\", url, headers=headers, params=querystring)"
      ],
      "metadata": {
        "id": "IhInpDYbo4qz"
      },
      "execution_count": 46,
      "outputs": []
    },
    {
      "cell_type": "markdown",
      "source": [
        "#Turn the time stamps into actual dates"
      ],
      "metadata": {
        "id": "ICklVNItpU01"
      }
    },
    {
      "cell_type": "code",
      "source": [
        "import datetime as dt\n",
        "import matplotlib.pyplot as plt\n",
        "dates = []\n",
        "time_stamps = response.json()\n",
        "for i in range(len(time_stamps['AAPL'][\"timestamp\"])):\n",
        "  x = str(time_stamps[\"AAPL\"][\"timestamp\"][i])\n",
        "  dates.append(str(dt.datetime.fromtimestamp(int(x)))[:10])\n",
        "\n",
        "\n",
        "dates = dates[-5:]\n",
        "\n",
        "prices = []\n",
        "for i in range(len(time_stamps['AAPL'][\"close\"])):\n",
        "  x = str(time_stamps[\"AAPL\"][\"close\"][i])\n",
        "  prices.append(float(x))\n",
        "\n",
        "prices.sort(reverse=True)\n",
        "prices = prices[-5:]\n",
        "\n",
        "df = pd.DataFrame(columns=[\"Date\", \"Price\"], data=list(zip(dates, prices)))\n",
        "\n",
        "plt.plot(dates,prices)\n",
        "plt.xlabel(\"Date\")\n",
        "plt.ylabel(\"Price at close\")\n",
        "plt.title(\"Previous 5 days price for \" + symbol)\n",
        "plt.show()"
      ],
      "metadata": {
        "colab": {
          "base_uri": "https://localhost:8080/",
          "height": 472
        },
        "id": "c4Lr2JJ2pUEP",
        "outputId": "58c7bb20-b192-4df1-c95c-6135c23d10dd"
      },
      "execution_count": 48,
      "outputs": [
        {
          "output_type": "display_data",
          "data": {
            "text/plain": [
              "<Figure size 640x480 with 1 Axes>"
            ],
            "image/png": "[encoded data removed]"
          },
          "metadata": {}
        }
      ]
    }
  ]
}