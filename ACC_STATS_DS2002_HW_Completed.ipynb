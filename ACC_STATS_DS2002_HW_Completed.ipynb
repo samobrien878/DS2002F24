{
  "nbformat": 4,
  "nbformat_minor": 0,
  "metadata": {
    "colab": {
      "provenance": [],
      "authorship_tag": "ABX9TyNMzfxA1iXoZEUIXpZFYRmV",
      "include_colab_link": true
    },
    "kernelspec": {
      "name": "python3",
      "display_name": "Python 3"
    },
    "language_info": {
      "name": "python"
    }
  },
  "cells": [
    {
      "cell_type": "markdown",
      "metadata": {
        "id": "view-in-github",
        "colab_type": "text"
      },
      "source": [
        "<a href=\"https://colab.research.google.com/github/samobrien878/DS2002F24/blob/main/ACC_STATS_DS2002_HW_Completed.ipynb\" target=\"_parent\"><img src=\"https://colab.research.google.com/assets/colab-badge.svg\" alt=\"Open In Colab\"/></a>"
      ]
    },
    {
      "cell_type": "markdown",
      "source": [
        "#1:"
      ],
      "metadata": {
        "id": "j2m_srzC01Bt"
      }
    },
    {
      "cell_type": "code",
      "execution_count": 10,
      "metadata": {
        "colab": {
          "base_uri": "https://localhost:8080/",
          "height": 342
        },
        "collapsed": true,
        "id": "h0eZE9W1zs1G",
        "outputId": "487e86ef-004b-4bea-ce48-c92349e2b63e"
      },
      "outputs": [
        {
          "output_type": "execute_result",
          "data": {
            "text/plain": [
              "0 Rk         Player Class Pos          School   G   MP  TRB AST STL  ... TOV  \\\n",
              "1  1   Amaree Abram    SO   G    Georgia Tech  10  108   17  11   1  ...   9   \n",
              "2  2   Sola Adebisi    FR   F   Florida State   7    9    1   1   0  ...   1   \n",
              "3  3  Prince Aligbe    SO   F  Boston College  35  651  119  21  15  ...  30   \n",
              "4  4     Abe Atiyeh    SR   G  Boston College   4    6    0   0   0  ...   1   \n",
              "5  5    Zack Austin    JR   F      Pittsburgh  33  746  137  29  32  ...  13   \n",
              "\n",
              "0  PF  PTS    FG%    2P%    3P%    FT%  PER    WS   BPM  \n",
              "1  10   34  0.262  0.318    0.2  0.615  4.1  -0.1  -6.4  \n",
              "2   1    2    0.5    0.5    NaN    NaN  3.5     0  -6.7  \n",
              "3  51  164  0.435  0.522  0.147   0.62  9.4   0.9  -1.3  \n",
              "4   0    3  0.333      0      1    NaN  1.1     0  -8.2  \n",
              "5  35  216  0.417  0.563  0.295  0.737   18   2.9   7.9  \n",
              "\n",
              "[5 rows x 21 columns]"
            ],
            "text/html": [
              "\n",
              "  <div id=\"df-c06e574d-336a-460f-8c11-033d54ab91ac\" class=\"colab-df-container\">\n",
              "    <div>\n",
              "<style scoped>\n",
              "    .dataframe tbody tr th:only-of-type {\n",
              "        vertical-align: middle;\n",
              "    }\n",
              "\n",
              "    .dataframe tbody tr th {\n",
              "        vertical-align: top;\n",
              "    }\n",
              "\n",
              "    .dataframe thead th {\n",
              "        text-align: right;\n",
              "    }\n",
              "</style>\n",
              "<table border=\"1\" class=\"dataframe\">\n",
              "  <thead>\n",
              "    <tr style=\"text-align: right;\">\n",
              "      <th></th>\n",
              "      <th>Rk</th>\n",
              "      <th>Player</th>\n",
              "      <th>Class</th>\n",
              "      <th>Pos</th>\n",
              "      <th>School</th>\n",
              "      <th>G</th>\n",
              "      <th>MP</th>\n",
              "      <th>TRB</th>\n",
              "      <th>AST</th>\n",
              "      <th>STL</th>\n",
              "      <th>...</th>\n",
              "      <th>TOV</th>\n",
              "      <th>PF</th>\n",
              "      <th>PTS</th>\n",
              "      <th>FG%</th>\n",
              "      <th>2P%</th>\n",
              "      <th>3P%</th>\n",
              "      <th>FT%</th>\n",
              "      <th>PER</th>\n",
              "      <th>WS</th>\n",
              "      <th>BPM</th>\n",
              "    </tr>\n",
              "  </thead>\n",
              "  <tbody>\n",
              "    <tr>\n",
              "      <th>1</th>\n",
              "      <td>1</td>\n",
              "      <td>Amaree Abram</td>\n",
              "      <td>SO</td>\n",
              "      <td>G</td>\n",
              "      <td>Georgia Tech</td>\n",
              "      <td>10</td>\n",
              "      <td>108</td>\n",
              "      <td>17</td>\n",
              "      <td>11</td>\n",
              "      <td>1</td>\n",
              "      <td>...</td>\n",
              "      <td>9</td>\n",
              "      <td>10</td>\n",
              "      <td>34</td>\n",
              "      <td>0.262</td>\n",
              "      <td>0.318</td>\n",
              "      <td>0.2</td>\n",
              "      <td>0.615</td>\n",
              "      <td>4.1</td>\n",
              "      <td>-0.1</td>\n",
              "      <td>-6.4</td>\n",
              "    </tr>\n",
              "    <tr>\n",
              "      <th>2</th>\n",
              "      <td>2</td>\n",
              "      <td>Sola Adebisi</td>\n",
              "      <td>FR</td>\n",
              "      <td>F</td>\n",
              "      <td>Florida State</td>\n",
              "      <td>7</td>\n",
              "      <td>9</td>\n",
              "      <td>1</td>\n",
              "      <td>1</td>\n",
              "      <td>0</td>\n",
              "      <td>...</td>\n",
              "      <td>1</td>\n",
              "      <td>1</td>\n",
              "      <td>2</td>\n",
              "      <td>0.5</td>\n",
              "      <td>0.5</td>\n",
              "      <td>NaN</td>\n",
              "      <td>NaN</td>\n",
              "      <td>3.5</td>\n",
              "      <td>0</td>\n",
              "      <td>-6.7</td>\n",
              "    </tr>\n",
              "    <tr>\n",
              "      <th>3</th>\n",
              "      <td>3</td>\n",
              "      <td>Prince Aligbe</td>\n",
              "      <td>SO</td>\n",
              "      <td>F</td>\n",
              "      <td>Boston College</td>\n",
              "      <td>35</td>\n",
              "      <td>651</td>\n",
              "      <td>119</td>\n",
              "      <td>21</td>\n",
              "      <td>15</td>\n",
              "      <td>...</td>\n",
              "      <td>30</td>\n",
              "      <td>51</td>\n",
              "      <td>164</td>\n",
              "      <td>0.435</td>\n",
              "      <td>0.522</td>\n",
              "      <td>0.147</td>\n",
              "      <td>0.62</td>\n",
              "      <td>9.4</td>\n",
              "      <td>0.9</td>\n",
              "      <td>-1.3</td>\n",
              "    </tr>\n",
              "    <tr>\n",
              "      <th>4</th>\n",
              "      <td>4</td>\n",
              "      <td>Abe Atiyeh</td>\n",
              "      <td>SR</td>\n",
              "      <td>G</td>\n",
              "      <td>Boston College</td>\n",
              "      <td>4</td>\n",
              "      <td>6</td>\n",
              "      <td>0</td>\n",
              "      <td>0</td>\n",
              "      <td>0</td>\n",
              "      <td>...</td>\n",
              "      <td>1</td>\n",
              "      <td>0</td>\n",
              "      <td>3</td>\n",
              "      <td>0.333</td>\n",
              "      <td>0</td>\n",
              "      <td>1</td>\n",
              "      <td>NaN</td>\n",
              "      <td>1.1</td>\n",
              "      <td>0</td>\n",
              "      <td>-8.2</td>\n",
              "    </tr>\n",
              "    <tr>\n",
              "      <th>5</th>\n",
              "      <td>5</td>\n",
              "      <td>Zack Austin</td>\n",
              "      <td>JR</td>\n",
              "      <td>F</td>\n",
              "      <td>Pittsburgh</td>\n",
              "      <td>33</td>\n",
              "      <td>746</td>\n",
              "      <td>137</td>\n",
              "      <td>29</td>\n",
              "      <td>32</td>\n",
              "      <td>...</td>\n",
              "      <td>13</td>\n",
              "      <td>35</td>\n",
              "      <td>216</td>\n",
              "      <td>0.417</td>\n",
              "      <td>0.563</td>\n",
              "      <td>0.295</td>\n",
              "      <td>0.737</td>\n",
              "      <td>18</td>\n",
              "      <td>2.9</td>\n",
              "      <td>7.9</td>\n",
              "    </tr>\n",
              "  </tbody>\n",
              "</table>\n",
              "<p>5 rows × 21 columns</p>\n",
              "</div>\n",
              "    <div class=\"colab-df-buttons\">\n",
              "\n",
              "  <div class=\"colab-df-container\">\n",
              "    <button class=\"colab-df-convert\" onclick=\"convertToInteractive('df-c06e574d-336a-460f-8c11-033d54ab91ac')\"\n",
              "            title=\"Convert this dataframe to an interactive table.\"\n",
              "            style=\"display:none;\">\n",
              "\n",
              "  <svg xmlns=\"http://www.w3.org/2000/svg\" height=\"24px\" viewBox=\"0 -960 960 960\">\n",
              "    <path d=\"M120-120v-720h720v720H120Zm60-500h600v-160H180v160Zm220 220h160v-160H400v160Zm0 220h160v-160H400v160ZM180-400h160v-160H180v160Zm440 0h160v-160H620v160ZM180-180h160v-160H180v160Zm440 0h160v-160H620v160Z\"/>\n",
              "  </svg>\n",
              "    </button>\n",
              "\n",
              "  <style>\n",
              "    .colab-df-container {\n",
              "      display:flex;\n",
              "      gap: 12px;\n",
              "    }\n",
              "\n",
              "    .colab-df-convert {\n",
              "      background-color: #E8F0FE;\n",
              "      border: none;\n",
              "      border-radius: 50%;\n",
              "      cursor: pointer;\n",
              "      display: none;\n",
              "      fill: #1967D2;\n",
              "      height: 32px;\n",
              "      padding: 0 0 0 0;\n",
              "      width: 32px;\n",
              "    }\n",
              "\n",
              "    .colab-df-convert:hover {\n",
              "      background-color: #E2EBFA;\n",
              "      box-shadow: 0px 1px 2px rgba(60, 64, 67, 0.3), 0px 1px 3px 1px rgba(60, 64, 67, 0.15);\n",
              "      fill: #174EA6;\n",
              "    }\n",
              "\n",
              "    .colab-df-buttons div {\n",
              "      margin-bottom: 4px;\n",
              "    }\n",
              "\n",
              "    [theme=dark] .colab-df-convert {\n",
              "      background-color: #3B4455;\n",
              "      fill: #D2E3FC;\n",
              "    }\n",
              "\n",
              "    [theme=dark] .colab-df-convert:hover {\n",
              "      background-color: #434B5C;\n",
              "      box-shadow: 0px 1px 3px 1px rgba(0, 0, 0, 0.15);\n",
              "      filter: drop-shadow(0px 1px 2px rgba(0, 0, 0, 0.3));\n",
              "      fill: #FFFFFF;\n",
              "    }\n",
              "  </style>\n",
              "\n",
              "    <script>\n",
              "      const buttonEl =\n",
              "        document.querySelector('#df-c06e574d-336a-460f-8c11-033d54ab91ac button.colab-df-convert');\n",
              "      buttonEl.style.display =\n",
              "        google.colab.kernel.accessAllowed ? 'block' : 'none';\n",
              "\n",
              "      async function convertToInteractive(key) {\n",
              "        const element = document.querySelector('#df-c06e574d-336a-460f-8c11-033d54ab91ac');\n",
              "        const dataTable =\n",
              "          await google.colab.kernel.invokeFunction('convertToInteractive',\n",
              "                                                    [key], {});\n",
              "        if (!dataTable) return;\n",
              "\n",
              "        const docLinkHtml = 'Like what you see? Visit the ' +\n",
              "          '<a target=\"_blank\" href=https://colab.research.google.com/notebooks/data_table.ipynb>data table notebook</a>'\n",
              "          + ' to learn more about interactive tables.';\n",
              "        element.innerHTML = '';\n",
              "        dataTable['output_type'] = 'display_data';\n",
              "        await google.colab.output.renderOutput(dataTable, element);\n",
              "        const docLink = document.createElement('div');\n",
              "        docLink.innerHTML = docLinkHtml;\n",
              "        element.appendChild(docLink);\n",
              "      }\n",
              "    </script>\n",
              "  </div>\n",
              "\n",
              "\n",
              "<div id=\"df-e63573a6-ce88-433e-ac22-4219f80c8e74\">\n",
              "  <button class=\"colab-df-quickchart\" onclick=\"quickchart('df-e63573a6-ce88-433e-ac22-4219f80c8e74')\"\n",
              "            title=\"Suggest charts\"\n",
              "            style=\"display:none;\">\n",
              "\n",
              "<svg xmlns=\"http://www.w3.org/2000/svg\" height=\"24px\"viewBox=\"0 0 24 24\"\n",
              "     width=\"24px\">\n",
              "    <g>\n",
              "        <path d=\"M19 3H5c-1.1 0-2 .9-2 2v14c0 1.1.9 2 2 2h14c1.1 0 2-.9 2-2V5c0-1.1-.9-2-2-2zM9 17H7v-7h2v7zm4 0h-2V7h2v10zm4 0h-2v-4h2v4z\"/>\n",
              "    </g>\n",
              "</svg>\n",
              "  </button>\n",
              "\n",
              "<style>\n",
              "  .colab-df-quickchart {\n",
              "      --bg-color: #E8F0FE;\n",
              "      --fill-color: #1967D2;\n",
              "      --hover-bg-color: #E2EBFA;\n",
              "      --hover-fill-color: #174EA6;\n",
              "      --disabled-fill-color: #AAA;\n",
              "      --disabled-bg-color: #DDD;\n",
              "  }\n",
              "\n",
              "  [theme=dark] .colab-df-quickchart {\n",
              "      --bg-color: #3B4455;\n",
              "      --fill-color: #D2E3FC;\n",
              "      --hover-bg-color: #434B5C;\n",
              "      --hover-fill-color: #FFFFFF;\n",
              "      --disabled-bg-color: #3B4455;\n",
              "      --disabled-fill-color: #666;\n",
              "  }\n",
              "\n",
              "  .colab-df-quickchart {\n",
              "    background-color: var(--bg-color);\n",
              "    border: none;\n",
              "    border-radius: 50%;\n",
              "    cursor: pointer;\n",
              "    display: none;\n",
              "    fill: var(--fill-color);\n",
              "    height: 32px;\n",
              "    padding: 0;\n",
              "    width: 32px;\n",
              "  }\n",
              "\n",
              "  .colab-df-quickchart:hover {\n",
              "    background-color: var(--hover-bg-color);\n",
              "    box-shadow: 0 1px 2px rgba(60, 64, 67, 0.3), 0 1px 3px 1px rgba(60, 64, 67, 0.15);\n",
              "    fill: var(--button-hover-fill-color);\n",
              "  }\n",
              "\n",
              "  .colab-df-quickchart-complete:disabled,\n",
              "  .colab-df-quickchart-complete:disabled:hover {\n",
              "    background-color: var(--disabled-bg-color);\n",
              "    fill: var(--disabled-fill-color);\n",
              "    box-shadow: none;\n",
              "  }\n",
              "\n",
              "  .colab-df-spinner {\n",
              "    border: 2px solid var(--fill-color);\n",
              "    border-color: transparent;\n",
              "    border-bottom-color: var(--fill-color);\n",
              "    animation:\n",
              "      spin 1s steps(1) infinite;\n",
              "  }\n",
              "\n",
              "  @keyframes spin {\n",
              "    0% {\n",
              "      border-color: transparent;\n",
              "      border-bottom-color: var(--fill-color);\n",
              "      border-left-color: var(--fill-color);\n",
              "    }\n",
              "    20% {\n",
              "      border-color: transparent;\n",
              "      border-left-color: var(--fill-color);\n",
              "      border-top-color: var(--fill-color);\n",
              "    }\n",
              "    30% {\n",
              "      border-color: transparent;\n",
              "      border-left-color: var(--fill-color);\n",
              "      border-top-color: var(--fill-color);\n",
              "      border-right-color: var(--fill-color);\n",
              "    }\n",
              "    40% {\n",
              "      border-color: transparent;\n",
              "      border-right-color: var(--fill-color);\n",
              "      border-top-color: var(--fill-color);\n",
              "    }\n",
              "    60% {\n",
              "      border-color: transparent;\n",
              "      border-right-color: var(--fill-color);\n",
              "    }\n",
              "    80% {\n",
              "      border-color: transparent;\n",
              "      border-right-color: var(--fill-color);\n",
              "      border-bottom-color: var(--fill-color);\n",
              "    }\n",
              "    90% {\n",
              "      border-color: transparent;\n",
              "      border-bottom-color: var(--fill-color);\n",
              "    }\n",
              "  }\n",
              "</style>\n",
              "\n",
              "  <script>\n",
              "    async function quickchart(key) {\n",
              "      const quickchartButtonEl =\n",
              "        document.querySelector('#' + key + ' button');\n",
              "      quickchartButtonEl.disabled = true;  // To prevent multiple clicks.\n",
              "      quickchartButtonEl.classList.add('colab-df-spinner');\n",
              "      try {\n",
              "        const charts = await google.colab.kernel.invokeFunction(\n",
              "            'suggestCharts', [key], {});\n",
              "      } catch (error) {\n",
              "        console.error('Error during call to suggestCharts:', error);\n",
              "      }\n",
              "      quickchartButtonEl.classList.remove('colab-df-spinner');\n",
              "      quickchartButtonEl.classList.add('colab-df-quickchart-complete');\n",
              "    }\n",
              "    (() => {\n",
              "      let quickchartButtonEl =\n",
              "        document.querySelector('#df-e63573a6-ce88-433e-ac22-4219f80c8e74 button');\n",
              "      quickchartButtonEl.style.display =\n",
              "        google.colab.kernel.accessAllowed ? 'block' : 'none';\n",
              "    })();\n",
              "  </script>\n",
              "</div>\n",
              "\n",
              "    </div>\n",
              "  </div>\n"
            ],
            "application/vnd.google.colaboratory.intrinsic+json": {
              "type": "dataframe",
              "variable_name": "acc_df"
            }
          },
          "metadata": {},
          "execution_count": 10
        }
      ],
      "source": [
        "import pandas as pd\n",
        "acc_df = pd.read_csv(\"acc_players-2324F.csv\")\n",
        "acc_df.columns = acc_df.iloc[0]\n",
        "acc_df = acc_df[1:]\n",
        "acc_df.head(5)"
      ]
    },
    {
      "cell_type": "markdown",
      "source": [
        "#2:"
      ],
      "metadata": {
        "id": "0fAyn6D11PwN"
      }
    },
    {
      "cell_type": "code",
      "source": [
        "acc_df['PTS'] = acc_df['PTS'].astype(int)\n",
        "total_points = acc_df['PTS'].sum()\n",
        "print(total_points)"
      ],
      "metadata": {
        "colab": {
          "base_uri": "https://localhost:8080/"
        },
        "id": "FIRqDJ340p_2",
        "outputId": "fea3d96a-c609-4202-d635-0b8260a95497"
      },
      "execution_count": 18,
      "outputs": [
        {
          "output_type": "stream",
          "name": "stdout",
          "text": [
            "38411\n"
          ]
        }
      ]
    },
    {
      "cell_type": "code",
      "source": [
        "acc_df['MP'] = acc_df['MP'].astype(int)\n",
        "most_mins = acc_df['MP'].max()\n",
        "player_name = acc_df.loc[acc_df['MP'] == most_mins, 'Player'].values[0]\n",
        "print(player_name)\n",
        "print(most_mins)"
      ],
      "metadata": {
        "colab": {
          "base_uri": "https://localhost:8080/"
        },
        "id": "KRcvx-7c3Avn",
        "outputId": "cb4f1391-60c1-49bc-8199-8b5fe4d4532e"
      },
      "execution_count": 24,
      "outputs": [
        {
          "output_type": "stream",
          "name": "stdout",
          "text": [
            "Casey Morsell\n",
            "1333\n"
          ]
        }
      ]
    },
    {
      "cell_type": "code",
      "source": [
        "acc_df['TRB'] = acc_df['TRB'].astype(int)\n",
        "acc_df = acc_df.sort_values(by='TRB', ascending=False)\n",
        "print(acc_df[['Player','TRB']].head(5))"
      ],
      "metadata": {
        "colab": {
          "base_uri": "https://localhost:8080/"
        },
        "id": "GXEI_pdS4ELz",
        "outputId": "51c9a587-20ac-4d49-a2b4-d3b87e513205"
      },
      "execution_count": 23,
      "outputs": [
        {
          "output_type": "stream",
          "name": "stdout",
          "text": [
            "0             Player  TRB\n",
            "6      Armando Bacot  380\n",
            "179  Ian Schieffelin  340\n",
            "91   Harrison Ingram  327\n",
            "45    Mohamed Diarra  311\n",
            "150    Norchad Omier  309\n"
          ]
        }
      ]
    },
    {
      "cell_type": "markdown",
      "source": [
        "#3:"
      ],
      "metadata": {
        "id": "GfTSfi1p45l-"
      }
    },
    {
      "cell_type": "code",
      "source": [
        "new_acc_df = acc_df\n",
        "new_acc_df = acc_df[acc_df['MP'] >= 500]\n",
        "\n",
        "highest_assists = new_acc_df['AST'].max()\n",
        "print('Individual Assist Leader:')\n",
        "print(new_acc_df.loc[new_acc_df['AST'] == highest_assists, 'Player'].values[0])\n",
        "print(\"Total Individual Assists:\"+ str(highest_assists)+\"\\n\")\n",
        "\n",
        "new_acc_df = new_acc_df.sort_values(by='AST', ascending=False)\n",
        "print('Top 3 Assist Leaders:')\n",
        "print(new_acc_df[['Player','AST']].head(3))\n",
        "print(\"\\n\")\n",
        "\n",
        "new_acc_df = new_acc_df.sort_values(by= 'BLK', ascending=False)\n",
        "print('Top 3 Block Leaders:')\n",
        "print(new_acc_df[['Player','BLK']].head(3))\n"
      ],
      "metadata": {
        "colab": {
          "base_uri": "https://localhost:8080/"
        },
        "id": "2Js37NjM45Rb",
        "outputId": "bdbb96a8-40ca-49f3-c8d7-ad900c50a18c"
      },
      "execution_count": 51,
      "outputs": [
        {
          "output_type": "stream",
          "name": "stdout",
          "text": [
            "Individual Assist Leader:\n",
            "Jalen Warley\n",
            "Total Individual Assists:92\n",
            "\n",
            "Top 3 Assist Leaders:\n",
            "0             Player AST\n",
            "202     Jalen Warley  92\n",
            "204    Jamir Watkins  91\n",
            "190  Kyle Sturdivant  91\n",
            "\n",
            "\n",
            "Top 3 Block Leaders:\n",
            "0            Player BLK\n",
            "157    Wooga Poplar   9\n",
            "142    Tyler Nickel   8\n",
            "108  J.R. Konieczny   8\n"
          ]
        }
      ]
    },
    {
      "cell_type": "markdown",
      "source": [
        "#4"
      ],
      "metadata": {
        "id": "fygMW880-H9d"
      }
    },
    {
      "cell_type": "code",
      "source": [
        "pts_by_school = acc_df.groupby('School')['PTS'].sum()\n",
        "print(\"Points by School:\")\n",
        "print(pts_by_school)\n",
        "print(\"\\n\")\n",
        "\n",
        "acc_df['AST'] = acc_df['AST'].astype(int)\n",
        "ast_by_school = acc_df.groupby('School')['AST'].sum()\n",
        "print(\"Assists by School:\")\n",
        "print(ast_by_school)\n",
        "print(\"\\n\")\n",
        "\n",
        "pts_by_school = pts_by_school.sort_values(ascending=False).head(3)\n",
        "print(\"Top scoring schools:\")\n",
        "print(pts_by_school)\n"
      ],
      "metadata": {
        "colab": {
          "base_uri": "https://localhost:8080/"
        },
        "id": "L2S8Cg-A9ipk",
        "outputId": "4ac06cb3-e7c4-4130-d0ba-07f2cc0e6644"
      },
      "execution_count": 66,
      "outputs": [
        {
          "output_type": "stream",
          "name": "stdout",
          "text": [
            "Points by School:\n",
            "School\n",
            "Boston College    2667\n",
            "Clemson           2785\n",
            "Duke              2830\n",
            "Florida State     2526\n",
            "Georgia Tech      2272\n",
            "Louisville        2304\n",
            "Miami (FL)        2424\n",
            "NC State          3101\n",
            "North Carolina    3032\n",
            "Notre Dame        2113\n",
            "Pittsburgh        2495\n",
            "Syracuse          2442\n",
            "Virginia          2140\n",
            "Virginia Tech     2547\n",
            "Wake Forest       2733\n",
            "Name: PTS, dtype: int64\n",
            "\n",
            "\n",
            "Assists by School:\n",
            "School\n",
            "Boston College    509\n",
            "Clemson           533\n",
            "Duke              551\n",
            "Florida State     406\n",
            "Georgia Tech      425\n",
            "Louisville        356\n",
            "Miami (FL)        454\n",
            "NC State          536\n",
            "North Carolina    536\n",
            "Notre Dame        335\n",
            "Pittsburgh        452\n",
            "Syracuse          442\n",
            "Virginia          509\n",
            "Virginia Tech     514\n",
            "Wake Forest       429\n",
            "Name: AST, dtype: int64\n",
            "\n",
            "\n",
            "Top scoring schools:\n",
            "School\n",
            "NC State          3101\n",
            "North Carolina    3032\n",
            "Duke              2830\n",
            "Name: PTS, dtype: int64\n"
          ]
        }
      ]
    },
    {
      "cell_type": "markdown",
      "source": [
        "#5:"
      ],
      "metadata": {
        "id": "XnN6JDskAPZF"
      }
    },
    {
      "cell_type": "code",
      "source": [
        "import matplotlib.pyplot as plt\n",
        "acc_df.sort_values(by='PTS', ascending=False)\n",
        "top_5_scorers = acc_df[['Player', 'PTS']].head(5)\n",
        "plt.bar(top_5_scorers['Player'], top_5_scorers['PTS'])\n",
        "plt.xlabel('Player')\n",
        "plt.ylabel('Points')\n",
        "plt.title('Top 5 Scorers')\n",
        "plt.xticks(rotation=45, ha='right')\n",
        "plt.tight_layout()\n",
        "plt.show()\n"
      ],
      "metadata": {
        "colab": {
          "base_uri": "https://localhost:8080/",
          "height": 487
        },
        "id": "1SwTMH5xART8",
        "outputId": "e193b27d-43e3-4c67-d1e3-a65255da3108"
      },
      "execution_count": 72,
      "outputs": [
        {
          "output_type": "display_data",
          "data": {
            "text/plain": [
              "<Figure size 640x480 with 1 Axes>"
            ],
            "image/png": "[encoded data removed]"
          },
          "metadata": {}
        }
      ]
    },
    {
      "source": [
        "import matplotlib.pyplot as plt\n",
        "import numpy as np\n",
        "\n",
        "correlation_test = acc_df[['FG%','WS']]\n",
        "plt.scatter(correlation_test['FG%'].astype(float), correlation_test['WS'].astype(float))\n",
        "plt.ylabel('Win Shares')\n",
        "plt.title('Field Goal Percentage vs. Win Shares')\n",
        "plt.show()\n",
        "\n",
        "\n",
        "\n",
        "correlation_test = correlation_test.dropna()\n",
        "corr = correlation_test['FG%'].astype(float).corr(correlation_test['WS'].astype(float))\n",
        "print(\"Correlation between FG% and WS:\", str(corr.round(2)))"
      ],
      "cell_type": "code",
      "metadata": {
        "colab": {
          "base_uri": "https://localhost:8080/",
          "height": 469
        },
        "id": "d1ClHpcsCTNV",
        "outputId": "5d3a88d6-3288-44bc-fd0a-63d6a7ce9428"
      },
      "execution_count": 91,
      "outputs": [
        {
          "output_type": "display_data",
          "data": {
            "text/plain": [
              "<Figure size 640x480 with 1 Axes>"
            ],
            "image/png": "[encoded data removed]"
          },
          "metadata": {}
        },
        {
          "output_type": "stream",
          "name": "stdout",
          "text": [
            "Correlation between FG% and WS: 0.42\n"
          ]
        }
      ]
    },
    {
      "cell_type": "markdown",
      "source": [
        "#Short Answers:"
      ],
      "metadata": {
        "id": "5-flnaf4DQiI"
      }
    },
    {
      "cell_type": "markdown",
      "source": [
        "The biggest thing I learned from pandas was the graphing and corrleational aspects in question five. I have been familiar with pandas, but I wasn't super familiar with the statistical side. Cool to see there is more analysis that can be done rather than just data analysis."
      ],
      "metadata": {
        "id": "jVciI2Y5VLe3"
      }
    },
    {
      "cell_type": "markdown",
      "source": [],
      "metadata": {
        "id": "53Zonob6WEvo"
      }
    },
    {
      "cell_type": "markdown",
      "source": [
        "The most challenging aspect of the assignment was the fact that barley any of the columns were saved as numeric. Its hard to do data manipulation when all of the data points are strings. To overcome this, I simply casted each of the necessary columns to floats or ints."
      ],
      "metadata": {
        "id": "nXyZo7yDVaoz"
      }
    },
    {
      "cell_type": "markdown",
      "source": [
        "The insights from analyzing ACC basketball can be applied to many other fields. For instance, in my major(psychgology) it could be useful to do similar correlational analysis in relation to mental illness. For instance, these x number of predictor charactericts correlate to these y instances of mental illness."
      ],
      "metadata": {
        "id": "ApXbCElHVtEU"
      }
    }
  ]
}